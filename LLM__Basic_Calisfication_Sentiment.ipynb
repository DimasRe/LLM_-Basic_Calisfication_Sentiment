{
  "nbformat": 4,
  "nbformat_minor": 0,
  "metadata": {
    "colab": {
      "provenance": []
    },
    "kernelspec": {
      "name": "python3",
      "display_name": "Python 3"
    },
    "language_info": {
      "name": "python"
    }
  },
  "cells": [
    {
      "cell_type": "code",
      "execution_count": 1,
      "metadata": {
        "colab": {
          "base_uri": "https://localhost:8080/"
        },
        "id": "OQViYCrSiVrY",
        "outputId": "21a6cb5e-a0df-4e1f-9117-56ca347c9708"
      },
      "outputs": [
        {
          "output_type": "stream",
          "name": "stdout",
          "text": [
            "Requirement already satisfied: transformers in /usr/local/lib/python3.10/dist-packages (4.46.3)\n",
            "Requirement already satisfied: filelock in /usr/local/lib/python3.10/dist-packages (from transformers) (3.16.1)\n",
            "Requirement already satisfied: huggingface-hub<1.0,>=0.23.2 in /usr/local/lib/python3.10/dist-packages (from transformers) (0.26.3)\n",
            "Requirement already satisfied: numpy>=1.17 in /usr/local/lib/python3.10/dist-packages (from transformers) (1.26.4)\n",
            "Requirement already satisfied: packaging>=20.0 in /usr/local/lib/python3.10/dist-packages (from transformers) (24.2)\n",
            "Requirement already satisfied: pyyaml>=5.1 in /usr/local/lib/python3.10/dist-packages (from transformers) (6.0.2)\n",
            "Requirement already satisfied: regex!=2019.12.17 in /usr/local/lib/python3.10/dist-packages (from transformers) (2024.9.11)\n",
            "Requirement already satisfied: requests in /usr/local/lib/python3.10/dist-packages (from transformers) (2.32.3)\n",
            "Requirement already satisfied: tokenizers<0.21,>=0.20 in /usr/local/lib/python3.10/dist-packages (from transformers) (0.20.3)\n",
            "Requirement already satisfied: safetensors>=0.4.1 in /usr/local/lib/python3.10/dist-packages (from transformers) (0.4.5)\n",
            "Requirement already satisfied: tqdm>=4.27 in /usr/local/lib/python3.10/dist-packages (from transformers) (4.66.6)\n",
            "Requirement already satisfied: fsspec>=2023.5.0 in /usr/local/lib/python3.10/dist-packages (from huggingface-hub<1.0,>=0.23.2->transformers) (2024.10.0)\n",
            "Requirement already satisfied: typing-extensions>=3.7.4.3 in /usr/local/lib/python3.10/dist-packages (from huggingface-hub<1.0,>=0.23.2->transformers) (4.12.2)\n",
            "Requirement already satisfied: charset-normalizer<4,>=2 in /usr/local/lib/python3.10/dist-packages (from requests->transformers) (3.4.0)\n",
            "Requirement already satisfied: idna<4,>=2.5 in /usr/local/lib/python3.10/dist-packages (from requests->transformers) (3.10)\n",
            "Requirement already satisfied: urllib3<3,>=1.21.1 in /usr/local/lib/python3.10/dist-packages (from requests->transformers) (2.2.3)\n",
            "Requirement already satisfied: certifi>=2017.4.17 in /usr/local/lib/python3.10/dist-packages (from requests->transformers) (2024.8.30)\n"
          ]
        }
      ],
      "source": [
        "!pip install transformers"
      ]
    },
    {
      "cell_type": "code",
      "source": [
        "!pip  install -qq langchain-google-genai google-generativeai"
      ],
      "metadata": {
        "id": "ypOauh2Qjh0p"
      },
      "execution_count": 2,
      "outputs": []
    },
    {
      "cell_type": "code",
      "source": [
        "import getpass\n",
        "\n",
        "API_KEY = getpass.getpass('Write your API KEY here:')"
      ],
      "metadata": {
        "colab": {
          "base_uri": "https://localhost:8080/"
        },
        "id": "G7ichA4Qkv2W",
        "outputId": "16ef864e-f001-4520-fe5c-f31aca74e4cc"
      },
      "execution_count": 3,
      "outputs": [
        {
          "name": "stdout",
          "output_type": "stream",
          "text": [
            "Write your API KEY here:··········\n"
          ]
        }
      ]
    },
    {
      "cell_type": "code",
      "source": [
        "from langchain.schema import SystemMessage, HumanMessage\n",
        "from langchain_google_genai import ChatGoogleGenerativeAI\n",
        "\n",
        "# Inisialisasi model\n",
        "model = ChatGoogleGenerativeAI(\n",
        "    model=\"gemini-1.5-flash\",\n",
        "    temperature=0.7,\n",
        "    api_key=API_KEY\n",
        ")\n",
        "\n",
        "# Pesan input untuk model menggunakan format yang benar\n",
        "messages = [\n",
        "    SystemMessage(content=\"You will be provided with a tweet, and your task is to classify its sentiment as positive, neutral, or negative.\"),\n",
        "    HumanMessage(content=\"I loved the new Batman movie!\")\n",
        "]\n",
        "\n",
        "# Mendapatkan respon dari model\n",
        "response = model(messages)\n",
        "\n",
        "# Cetak hasil respon\n",
        "print(response.content)  # Gunakan atribut content untuk mendapatkan isi respon"
      ],
      "metadata": {
        "colab": {
          "base_uri": "https://localhost:8080/"
        },
        "id": "BR6NwDHvk9rT",
        "outputId": "1b61a189-9020-4573-f079-0ec8c5704c5e"
      },
      "execution_count": 4,
      "outputs": [
        {
          "output_type": "stream",
          "name": "stderr",
          "text": [
            "<ipython-input-4-f805c7f21894>:18: LangChainDeprecationWarning: The method `BaseChatModel.__call__` was deprecated in langchain-core 0.1.7 and will be removed in 1.0. Use :meth:`~invoke` instead.\n",
            "  response = model(messages)\n"
          ]
        },
        {
          "output_type": "stream",
          "name": "stdout",
          "text": [
            "Positive\n",
            "\n"
          ]
        }
      ]
    },
    {
      "cell_type": "code",
      "source": [
        "# Pesan input untuk model menggunakan format yang benar\n",
        "messages = [\n",
        "    SystemMessage(content=\"You will be provided with a tweet, and your task is to classify its sentiment as positive, neutral, or negative.\"),\n",
        "    HumanMessage(content=\"consol got bmi test hahaha say obes well much unhappi minut\")\n",
        "]\n",
        "\n",
        "# Mendapatkan respon dari model\n",
        "response = model(messages)\n",
        "\n",
        "# Cetak hasil respon\n",
        "print(response.content)  # Gunakan atribut content untuk mendapatkan isi respon"
      ],
      "metadata": {
        "colab": {
          "base_uri": "https://localhost:8080/"
        },
        "id": "i7CRmlTZ-HLM",
        "outputId": "1b3f04db-1880-4128-8c50-2fd7d615e87e"
      },
      "execution_count": 5,
      "outputs": [
        {
          "output_type": "stream",
          "name": "stdout",
          "text": [
            "Negative.  The tweet expresses unhappiness (\"unhappi\") related to a BMI test result.\n",
            "\n"
          ]
        }
      ]
    },
    {
      "cell_type": "code",
      "source": [
        "# Pesan input untuk model menggunakan format yang benar\n",
        "messages = [\n",
        "    SystemMessage(content=\"You will be provided with a tweet, and your task is to classify its sentiment as positive, neutral, or negative.\"),\n",
        "    HumanMessage(content=\"follow follow\")\n",
        "]\n",
        "\n",
        "# Mendapatkan respon dari model\n",
        "response = model(messages)\n",
        "\n",
        "# Cetak hasil respon\n",
        "print(response.content)  # Gunakan atribut content untuk mendapatkan isi respon"
      ],
      "metadata": {
        "colab": {
          "base_uri": "https://localhost:8080/"
        },
        "id": "hcC2nf6q-N08",
        "outputId": "2543a55e-9a93-4e27-827e-fd9a36073408"
      },
      "execution_count": 6,
      "outputs": [
        {
          "output_type": "stream",
          "name": "stdout",
          "text": [
            "Neutral.  The tweet \"follow follow\" is simply a request to be followed and doesn't express positive or negative sentiment.\n",
            "\n"
          ]
        }
      ]
    }
  ]
}